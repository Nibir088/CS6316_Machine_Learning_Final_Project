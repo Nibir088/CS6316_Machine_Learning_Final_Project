{
 "cells": [
  {
   "cell_type": "markdown",
   "id": "f82e84c5",
   "metadata": {},
   "source": [
    "### Decision Tree"
   ]
  },
  {
   "cell_type": "code",
   "execution_count": 1,
   "id": "51dda5d3",
   "metadata": {},
   "outputs": [],
   "source": [
    "from DataLoader import *\n",
    "from performance_metrics import *\n",
    "import pandas as pd\n",
    "from DecisionTree import *"
   ]
  },
  {
   "cell_type": "code",
   "execution_count": 2,
   "id": "527f7c9a",
   "metadata": {},
   "outputs": [
    {
     "data": {
      "text/plain": [
       "{'accuracy': 0.912249373433584,\n",
       " 'precision_macro': 0.9082880077223191,\n",
       " 'precision_micro': 0.912249373433584,\n",
       " 'precision_weighted': 0.9148728439345255,\n",
       " 'recall_macro': 0.9079906204906205,\n",
       " 'recall_micro': 0.912249373433584,\n",
       " 'recall_weighted': 0.912249373433584,\n",
       " 'f1_macro': 0.9069743964706666,\n",
       " 'f1_micro': 0.912249373433584,\n",
       " 'f1_weighted': 0.912493433042356,\n",
       " 'roc_auc': 0.9079906204906205}"
      ]
     },
     "execution_count": 2,
     "metadata": {},
     "output_type": "execute_result"
    }
   ],
   "source": [
    "data_1, data_2 = load_dataset()\n",
    "perf_dict = []\n",
    "\n",
    "for x_train, y_train, x_test, y_test in data_1:\n",
    "    train_data = np.concatenate((x_train, y_train.reshape(-1,1)), axis = 1)\n",
    "    test_data =  np.concatenate((x_test, y_test.reshape(-1,1)), axis = 1)\n",
    "    decision_tree = DecisionTree(max_depth=20, min_size=7)\n",
    "    decision_tree.fit(x_train, y_train)\n",
    "    predictions = decision_tree.predict(x_test)\n",
    "    performance = calculate_performance(predictions, y_test, is_sigmoid=True)\n",
    "    perf_dict.append(performance)\n",
    "final_performance(perf_dict)"
   ]
  },
  {
   "cell_type": "code",
   "execution_count": 3,
   "id": "674e34d2",
   "metadata": {},
   "outputs": [
    {
     "data": {
      "text/plain": [
       "{'accuracy': 0.7636640021654506,\n",
       " 'precision_macro': 0.7391783885192786,\n",
       " 'precision_micro': 0.7636640021654506,\n",
       " 'precision_weighted': 0.7623072585443511,\n",
       " 'recall_macro': 0.737009423148536,\n",
       " 'recall_micro': 0.7636640021654506,\n",
       " 'recall_weighted': 0.7636640021654506,\n",
       " 'f1_macro': 0.7356593518441124,\n",
       " 'f1_micro': 0.7636640021654506,\n",
       " 'f1_weighted': 0.760883792329883,\n",
       " 'roc_auc': 0.737009423148536}"
      ]
     },
     "execution_count": 3,
     "metadata": {},
     "output_type": "execute_result"
    }
   ],
   "source": [
    "for x_train, y_train, x_test, y_test in data_2:\n",
    "    train_data = np.concatenate((x_train, y_train.reshape(-1,1)), axis = 1)\n",
    "    test_data =  np.concatenate((x_test, y_test.reshape(-1,1)), axis = 1)\n",
    "    decision_tree = DecisionTree(max_depth=20, min_size=7)\n",
    "    decision_tree.fit(x_train, y_train)\n",
    "    predictions = decision_tree.predict(x_test)\n",
    "    performance = calculate_performance(predictions, y_test, is_sigmoid=True)\n",
    "    perf_dict.append(performance)\n",
    "final_performance(perf_dict)"
   ]
  },
  {
   "cell_type": "markdown",
   "id": "d560f246",
   "metadata": {},
   "source": [
    "### Random Forest"
   ]
  },
  {
   "cell_type": "code",
   "execution_count": 4,
   "id": "1e538e03",
   "metadata": {},
   "outputs": [],
   "source": [
    "from DataLoader import *\n",
    "from performance_metrics import *\n",
    "import pandas as pd\n",
    "from RandomForest import *\n",
    "import math"
   ]
  },
  {
   "cell_type": "code",
   "execution_count": 5,
   "id": "2cf5b569",
   "metadata": {},
   "outputs": [
    {
     "data": {
      "text/plain": [
       "{'accuracy': 0.9525689223057643,\n",
       " 'precision_macro': 0.9581007229691441,\n",
       " 'precision_micro': 0.9525689223057643,\n",
       " 'precision_weighted': 0.9543293744263274,\n",
       " 'recall_macro': 0.9421176046176047,\n",
       " 'recall_micro': 0.9525689223057643,\n",
       " 'recall_weighted': 0.9525689223057643,\n",
       " 'f1_macro': 0.9485931180506946,\n",
       " 'f1_micro': 0.9525689223057643,\n",
       " 'f1_weighted': 0.9521529107218486,\n",
       " 'roc_auc': 0.9421176046176047}"
      ]
     },
     "execution_count": 5,
     "metadata": {},
     "output_type": "execute_result"
    }
   ],
   "source": [
    "data_1, data_2 = load_dataset()\n",
    "perf_dict = []\n",
    "\n",
    "max_depth = 20\n",
    "min_size = 7\n",
    "sample_size = 1.0\n",
    "n_trees = 5\n",
    "for x_train, y_train, x_test, y_test in data_1:\n",
    "    n_features = int(math.sqrt(len(x_train[0])))\n",
    "    random_forest = RandomForest(max_depth, min_size, sample_size, n_trees, n_features)\n",
    "    random_forest.fit(x_train, y_train)\n",
    "    predictions = random_forest.predict(x_test)\n",
    "    performance = calculate_performance(predictions, y_test, is_sigmoid=True)  \n",
    "    perf_dict.append(performance)\n",
    "    \n",
    "final_performance(perf_dict)"
   ]
  },
  {
   "cell_type": "code",
   "execution_count": null,
   "id": "78a1ef70",
   "metadata": {},
   "outputs": [],
   "source": [
    "data_1, data_2 = load_dataset()\n",
    "perf_dict = []\n",
    "\n",
    "max_depth = 20\n",
    "min_size = 7\n",
    "sample_size = 1.0\n",
    "n_trees = 5\n",
    "for x_train, y_train, x_test, y_test in data_2:\n",
    "    n_features = int(math.sqrt(len(x_train[0])))\n",
    "    random_forest = RandomForest(max_depth, min_size, sample_size, n_trees, n_features)\n",
    "    random_forest.fit(x_train, y_train)\n",
    "    predictions = random_forest.predict(x_test)\n",
    "    performance = calculate_performance(predictions, y_test, is_sigmoid=True)  \n",
    "    perf_dict.append(performance)\n",
    "    \n",
    "final_performance(perf_dict)"
   ]
  },
  {
   "cell_type": "markdown",
   "id": "e9daa504",
   "metadata": {},
   "source": [
    "### AdaBoost"
   ]
  },
  {
   "cell_type": "code",
   "execution_count": null,
   "id": "a1fb4aea",
   "metadata": {},
   "outputs": [],
   "source": [
    "from DataLoader import *\n",
    "from performance_metrics import *\n",
    "import pandas as pd\n",
    "from AdaBoost import *"
   ]
  },
  {
   "cell_type": "code",
   "execution_count": null,
   "id": "6396ecf8",
   "metadata": {},
   "outputs": [],
   "source": [
    "data_1, data_2 = load_dataset()\n",
    "perf_dict = []\n",
    "\n",
    "\n",
    "for x_train, y_train, x_test, y_test in data_1:\n",
    "    \n",
    "    ada_boost = AdaBoost()\n",
    "    ada_boost.fit(x_train, y_train, M = 400)\n",
    "    y_pred = ada_boost.predict(x_test)\n",
    "    performance = calculate_performance(y_pred, y_test, is_sigmoid=True)  \n",
    "    perf_dict.append(performance)\n",
    "    \n",
    "final_performance(perf_dict)"
   ]
  },
  {
   "cell_type": "code",
   "execution_count": null,
   "id": "2a6bcda1",
   "metadata": {},
   "outputs": [],
   "source": [
    "data_1, data_2 = load_dataset()\n",
    "perf_dict = []\n",
    "\n",
    "\n",
    "for x_train, y_train, x_test, y_test in data_2:\n",
    "    \n",
    "    ada_boost = AdaBoost()\n",
    "    ada_boost.fit(x_train, y_train, M = 400)\n",
    "    y_pred = ada_boost.predict(x_test)\n",
    "    performance = calculate_performance(y_pred, y_test, is_sigmoid=True)  \n",
    "    perf_dict.append(performance)\n",
    "    \n",
    "final_performance(perf_dict)"
   ]
  }
 ],
 "metadata": {
  "kernelspec": {
   "display_name": "Python (habitat)",
   "language": "python",
   "name": "habitat"
  },
  "language_info": {
   "codemirror_mode": {
    "name": "ipython",
    "version": 3
   },
   "file_extension": ".py",
   "mimetype": "text/x-python",
   "name": "python",
   "nbconvert_exporter": "python",
   "pygments_lexer": "ipython3",
   "version": "3.7.13"
  }
 },
 "nbformat": 4,
 "nbformat_minor": 5
}
